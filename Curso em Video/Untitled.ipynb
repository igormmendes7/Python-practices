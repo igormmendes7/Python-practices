{
 "cells": [
  {
   "cell_type": "code",
   "execution_count": 30,
   "id": "c3ee8094-ebc6-48b7-b148-135cc9ae0eae",
   "metadata": {},
   "outputs": [],
   "source": [
    "import pandas as pd"
   ]
  },
  {
   "cell_type": "code",
   "execution_count": 31,
   "id": "b32056e4-b4ef-40c2-9689-3df1a9e6b08e",
   "metadata": {},
   "outputs": [],
   "source": [
    "df = {'col1': ['a','b','a','c'], 'col2': [\"\",\"\",'a',''], 'col3': ['','a','','b'], 'col4': ['a','','b',''], 'col2': ['b','c','c','']}"
   ]
  },
  {
   "cell_type": "code",
   "execution_count": 32,
   "id": "b135d307-5132-4a6c-82d3-0bd7fdc21ead",
   "metadata": {},
   "outputs": [],
   "source": [
    "d = pd.DataFrame(data=df)"
   ]
  },
  {
   "cell_type": "code",
   "execution_count": 27,
   "id": "327ee4ad-7ee6-4693-a3a6-4011cbc68d59",
   "metadata": {},
   "outputs": [],
   "source": [
    "#newlist = []\n",
    "#for i, row in d.iterrows():\n",
    "#    row.drop_duplicates(inplace=True)\n",
    "#    row.dropna(inplace=True)\n",
    "#    row.sort_values(inplace=True)\n",
    "#    newlist.append(row.to_list())\n",
    "    \n",
    "#d['New colum'] = newlist"
   ]
  },
  {
   "cell_type": "code",
   "execution_count": 33,
   "id": "e1fc1a4e-fe34-40c5-a2a1-7faa7aff55f0",
   "metadata": {},
   "outputs": [],
   "source": [
    "d['Newcolum'] = d.apply(lambda x: '-'.join(sorted(x.dropna().unique())) ,axis=1)"
   ]
  },
  {
   "cell_type": "code",
   "execution_count": 34,
   "id": "2e7e71c2-dd3d-45bb-a1e5-88d062d5d092",
   "metadata": {},
   "outputs": [
    {
     "data": {
      "text/html": [
       "<div>\n",
       "<style scoped>\n",
       "    .dataframe tbody tr th:only-of-type {\n",
       "        vertical-align: middle;\n",
       "    }\n",
       "\n",
       "    .dataframe tbody tr th {\n",
       "        vertical-align: top;\n",
       "    }\n",
       "\n",
       "    .dataframe thead th {\n",
       "        text-align: right;\n",
       "    }\n",
       "</style>\n",
       "<table border=\"1\" class=\"dataframe\">\n",
       "  <thead>\n",
       "    <tr style=\"text-align: right;\">\n",
       "      <th></th>\n",
       "      <th>col1</th>\n",
       "      <th>col2</th>\n",
       "      <th>col3</th>\n",
       "      <th>col4</th>\n",
       "      <th>Newcolum</th>\n",
       "    </tr>\n",
       "  </thead>\n",
       "  <tbody>\n",
       "    <tr>\n",
       "      <th>0</th>\n",
       "      <td>a</td>\n",
       "      <td>b</td>\n",
       "      <td></td>\n",
       "      <td>a</td>\n",
       "      <td>-a-b</td>\n",
       "    </tr>\n",
       "    <tr>\n",
       "      <th>1</th>\n",
       "      <td>b</td>\n",
       "      <td>c</td>\n",
       "      <td>a</td>\n",
       "      <td></td>\n",
       "      <td>-a-b-c</td>\n",
       "    </tr>\n",
       "    <tr>\n",
       "      <th>2</th>\n",
       "      <td>a</td>\n",
       "      <td>c</td>\n",
       "      <td></td>\n",
       "      <td>b</td>\n",
       "      <td>-a-b-c</td>\n",
       "    </tr>\n",
       "    <tr>\n",
       "      <th>3</th>\n",
       "      <td>c</td>\n",
       "      <td></td>\n",
       "      <td>b</td>\n",
       "      <td></td>\n",
       "      <td>-b-c</td>\n",
       "    </tr>\n",
       "  </tbody>\n",
       "</table>\n",
       "</div>"
      ],
      "text/plain": [
       "  col1 col2 col3 col4 Newcolum\n",
       "0    a    b         a     -a-b\n",
       "1    b    c    a        -a-b-c\n",
       "2    a    c         b   -a-b-c\n",
       "3    c         b          -b-c"
      ]
     },
     "execution_count": 34,
     "metadata": {},
     "output_type": "execute_result"
    }
   ],
   "source": [
    "d.head(10)"
   ]
  },
  {
   "cell_type": "code",
   "execution_count": null,
   "id": "5323891b-da2e-4bc7-b655-8a4a206761bd",
   "metadata": {},
   "outputs": [],
   "source": []
  }
 ],
 "metadata": {
  "kernelspec": {
   "display_name": "Python 3 (ipykernel)",
   "language": "python",
   "name": "python3"
  },
  "language_info": {
   "codemirror_mode": {
    "name": "ipython",
    "version": 3
   },
   "file_extension": ".py",
   "mimetype": "text/x-python",
   "name": "python",
   "nbconvert_exporter": "python",
   "pygments_lexer": "ipython3",
   "version": "3.9.12"
  }
 },
 "nbformat": 4,
 "nbformat_minor": 5
}
